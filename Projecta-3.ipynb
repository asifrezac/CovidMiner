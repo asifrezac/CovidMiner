{
 "cells": [
  {
   "cell_type": "code",
   "execution_count": 2,
   "id": "95b0fc46",
   "metadata": {},
   "outputs": [
    {
     "name": "stdout",
     "output_type": "stream",
     "text": [
      "<class 'pandas.core.frame.DataFrame'>\n",
      "RangeIndex: 1544 entries, 0 to 1543\n",
      "Data columns (total 6 columns):\n",
      " #   Column      Non-Null Count  Dtype  \n",
      "---  ------      --------------  -----  \n",
      " 0   patient_id  1544 non-null   object \n",
      " 1   global_num  975 non-null    float64\n",
      " 2   date        1544 non-null   object \n",
      " 3   location    1544 non-null   object \n",
      " 4   latitude    1544 non-null   float64\n",
      " 5   longitude   1544 non-null   float64\n",
      "dtypes: float64(3), object(3)\n",
      "memory usage: 72.5+ KB\n",
      "None\n",
      "    patient_id  global_num        date               location   latitude  \\\n",
      "0  P1000000501         2.0  22/04/2020  Chittorgarh_Rajasthan  24.879999   \n",
      "1  P1000000501         2.0  24/04/2020  Ratnagiri_Maharashtra  16.994444   \n",
      "2  P1000000502         5.0  26/04/2020     Pindwara_Rajasthan  24.794500   \n",
      "3  P1000000502         5.0  27/04/2020    Raipur_Chhattisgarh  21.250000   \n",
      "4  P1000000502         5.0  28/04/2020        Gokak_Karnataka  16.166700   \n",
      "5  P1000000504         7.0  30/04/2020  Lucknow_Uttar Pradesh  26.850000   \n",
      "6  P1000000505         9.0  30/04/2020  Lucknow_Uttar Pradesh  26.850000   \n",
      "7  P1000000506        10.0  30/04/2020            Delhi_Delhi  28.679079   \n",
      "8  P1000000507        11.0  30/04/2020            Delhi_Delhi  28.679079   \n",
      "9  P1000000508        13.0  30/04/2020  Ratnagiri_Maharashtra  16.994444   \n",
      "\n",
      "   longitude  \n",
      "0  74.629997  \n",
      "1  73.300003  \n",
      "2  73.055000  \n",
      "3  81.629997  \n",
      "4  74.833298  \n",
      "5  80.949997  \n",
      "6  80.949997  \n",
      "7  77.069710  \n",
      "8  77.069710  \n",
      "9  73.300003  \n"
     ]
    }
   ],
   "source": [
    "import pandas as pd\n",
    "# load the bank transaction dataset\n",
    "df = pd.read_csv('D1.csv')\n",
    "# info and the first 10 transactions\n",
    "print(df.info())\n",
    "print(df.head(10))"
   ]
  },
  {
   "cell_type": "code",
   "execution_count": 14,
   "id": "1a40dfcc",
   "metadata": {},
   "outputs": [
    {
     "data": {
      "text/html": [
       "<div>\n",
       "<style scoped>\n",
       "    .dataframe tbody tr th:only-of-type {\n",
       "        vertical-align: middle;\n",
       "    }\n",
       "\n",
       "    .dataframe tbody tr th {\n",
       "        vertical-align: top;\n",
       "    }\n",
       "\n",
       "    .dataframe thead th {\n",
       "        text-align: right;\n",
       "    }\n",
       "</style>\n",
       "<table border=\"1\" class=\"dataframe\">\n",
       "  <thead>\n",
       "    <tr style=\"text-align: right;\">\n",
       "      <th></th>\n",
       "      <th>patient_id</th>\n",
       "      <th>global_num</th>\n",
       "      <th>date</th>\n",
       "      <th>location</th>\n",
       "      <th>latitude</th>\n",
       "      <th>longitude</th>\n",
       "    </tr>\n",
       "  </thead>\n",
       "  <tbody>\n",
       "    <tr>\n",
       "      <th>751</th>\n",
       "      <td>P1100000501</td>\n",
       "      <td>NaN</td>\n",
       "      <td>20/05/2020</td>\n",
       "      <td>Chirala_Andhra Pradesh</td>\n",
       "      <td>15.812074</td>\n",
       "      <td>80.355377</td>\n",
       "    </tr>\n",
       "    <tr>\n",
       "      <th>752</th>\n",
       "      <td>P1100000501</td>\n",
       "      <td>NaN</td>\n",
       "      <td>20/05/2020</td>\n",
       "      <td>Markapur_Andhra Pradesh</td>\n",
       "      <td>15.764501</td>\n",
       "      <td>79.259491</td>\n",
       "    </tr>\n",
       "    <tr>\n",
       "      <th>753</th>\n",
       "      <td>P1100000501</td>\n",
       "      <td>NaN</td>\n",
       "      <td>21/05/2020</td>\n",
       "      <td>Chalakudy_Kerala</td>\n",
       "      <td>10.311879</td>\n",
       "      <td>76.331978</td>\n",
       "    </tr>\n",
       "  </tbody>\n",
       "</table>\n",
       "</div>"
      ],
      "text/plain": [
       "      patient_id  global_num        date                 location   latitude  \\\n",
       "751  P1100000501         NaN  20/05/2020   Chirala_Andhra Pradesh  15.812074   \n",
       "752  P1100000501         NaN  20/05/2020  Markapur_Andhra Pradesh  15.764501   \n",
       "753  P1100000501         NaN  21/05/2020         Chalakudy_Kerala  10.311879   \n",
       "\n",
       "     longitude  \n",
       "751  80.355377  \n",
       "752  79.259491  \n",
       "753  76.331978  "
      ]
     },
     "execution_count": 14,
     "metadata": {},
     "output_type": "execute_result"
    }
   ],
   "source": [
    "df.loc[df['patient_id'] == 'P1100000501']\n"
   ]
  },
  {
   "cell_type": "code",
   "execution_count": 8,
   "id": "abeb8125",
   "metadata": {},
   "outputs": [
    {
     "name": "stdout",
     "output_type": "stream",
     "text": [
      "patient_id\n",
      "P1000000501       [Chittorgarh_Rajasthan, Ratnagiri_Maharashtra]\n",
      "P1000000502    [Pindwara_Rajasthan, Raipur_Chhattisgarh, Goka...\n",
      "P1000000504                              [Lucknow_Uttar Pradesh]\n",
      "P1000000505                              [Lucknow_Uttar Pradesh]\n",
      "P1000000506                                        [Delhi_Delhi]\n",
      "Name: location, dtype: object\n"
     ]
    }
   ],
   "source": [
    "# group by account, then list all services\n",
    "transactions = df.groupby(['patient_id'])['location'].apply(list)\n",
    "print(transactions.head(5))"
   ]
  },
  {
   "cell_type": "code",
   "execution_count": 9,
   "id": "a5b06e9a",
   "metadata": {},
   "outputs": [
    {
     "name": "stdout",
     "output_type": "stream",
     "text": [
      "[RelationRecord(items=frozenset({'Chalakudy_Kerala'}), support=0.05598243688254665, ordered_statistics=[OrderedStatistic(items_base=frozenset(), items_add=frozenset({'Chalakudy_Kerala'}), confidence=0.05598243688254665, lift=1.0)]), RelationRecord(items=frozenset({'Channapatna_Karnataka'}), support=0.05598243688254665, ordered_statistics=[OrderedStatistic(items_base=frozenset(), items_add=frozenset({'Channapatna_Karnataka'}), confidence=0.05598243688254665, lift=1.0)]), RelationRecord(items=frozenset({'Gokak_Karnataka'}), support=0.054884742041712405, ordered_statistics=[OrderedStatistic(items_base=frozenset(), items_add=frozenset({'Gokak_Karnataka'}), confidence=0.054884742041712405, lift=1.0)]), RelationRecord(items=frozenset({'Kollam_Kerala'}), support=0.059275521405049394, ordered_statistics=[OrderedStatistic(items_base=frozenset(), items_add=frozenset({'Kollam_Kerala'}), confidence=0.059275521405049394, lift=1.0)]), RelationRecord(items=frozenset({'Lucknow_Uttar Pradesh'}), support=0.0867178924259056, ordered_statistics=[OrderedStatistic(items_base=frozenset(), items_add=frozenset({'Lucknow_Uttar Pradesh'}), confidence=0.0867178924259056, lift=1.0)])]\n"
     ]
    }
   ],
   "source": [
    "from apyori import apriori\n",
    "# type cast the transactions from pandas into normal list format and run apriori\n",
    "transaction_list = list(transactions)\n",
    "results = list(apriori(transaction_list, min_support=0.05))\n",
    "# print first 5 rules\n",
    "print(results[:5])"
   ]
  },
  {
   "cell_type": "code",
   "execution_count": 10,
   "id": "f3643caa",
   "metadata": {},
   "outputs": [
    {
     "name": "stdout",
     "output_type": "stream",
     "text": [
      "  Left_side              Right_side   Support  Confidence  Lift\n",
      "0                  Chalakudy_Kerala  0.055982    0.055982   1.0\n",
      "1             Channapatna_Karnataka  0.055982    0.055982   1.0\n",
      "2                   Gokak_Karnataka  0.054885    0.054885   1.0\n",
      "3                     Kollam_Kerala  0.059276    0.059276   1.0\n",
      "4             Lucknow_Uttar Pradesh  0.086718    0.086718   1.0\n",
      "5              Ranebennur_Karnataka  0.086718    0.086718   1.0\n",
      "6             Ratnagiri_Maharashtra  0.062569    0.062569   1.0\n",
      "7            Sardarshahar_Rajasthan  0.147091    0.147091   1.0\n"
     ]
    }
   ],
   "source": [
    "def convert_apriori_results_to_pandas_df(results):\n",
    "    rules = []\n",
    "    for rule_set in results:\n",
    "        for rule in rule_set.ordered_statistics:\n",
    "            # items_base = left side of rules, items_add = right side\n",
    "            # support, confidence and lift for respective rules\n",
    "            rules.append(['patient_id'.join(rule.items_base), 'location'.join(rule.items_add),\n",
    "                          rule_set.support, rule.confidence, rule.lift])\n",
    "            \n",
    "    # typecast it to pandas df\n",
    "    return pd.DataFrame(rules, columns=['Left_side', 'Right_side', 'Support',\n",
    "                                        'Confidence', 'Lift'])\n",
    "        \n",
    "result_df = convert_apriori_results_to_pandas_df(results)\n",
    "print(result_df.head(20))"
   ]
  },
  {
   "cell_type": "code",
   "execution_count": 6,
   "id": "7b06dfa1",
   "metadata": {},
   "outputs": [
    {
     "name": "stdout",
     "output_type": "stream",
     "text": [
      "  Left_side              Right_side   Support  Confidence  Lift\n",
      "0                  Chalakudy_Kerala  0.055982    0.055982   1.0\n",
      "1             Channapatna_Karnataka  0.055982    0.055982   1.0\n",
      "2                   Gokak_Karnataka  0.054885    0.054885   1.0\n",
      "3                     Kollam_Kerala  0.059276    0.059276   1.0\n",
      "4             Lucknow_Uttar Pradesh  0.086718    0.086718   1.0\n",
      "5              Ranebennur_Karnataka  0.086718    0.086718   1.0\n",
      "6             Ratnagiri_Maharashtra  0.062569    0.062569   1.0\n",
      "7            Sardarshahar_Rajasthan  0.147091    0.147091   1.0\n"
     ]
    }
   ],
   "source": [
    "# sort all acquired rules descending by lift\n",
    "result_df = result_df.sort_values(by='Lift', ascending=False)\n",
    "print(result_df.head(10))"
   ]
  },
  {
   "cell_type": "code",
   "execution_count": 7,
   "id": "5f78c808",
   "metadata": {},
   "outputs": [
    {
     "name": "stdout",
     "output_type": "stream",
     "text": [
      "[['Chittorgarh_Rajasthan', 'Ratnagiri_Maharashtra'], ['Pindwara_Rajasthan', 'Raipur_Chhattisgarh', 'Gokak_Karnataka'], ['Lucknow_Uttar Pradesh'], ['Lucknow_Uttar Pradesh'], ['Delhi_Delhi']]\n"
     ]
    }
   ],
   "source": [
    "transactions = df.groupby(['patient_id'])['location'].apply(list)\n",
    "sequences = transactions.values.tolist()\n",
    "# show the first 5 sequences\n",
    "print(sequences[:5])"
   ]
  },
  {
   "cell_type": "code",
   "execution_count": null,
   "id": "d2250914",
   "metadata": {},
   "outputs": [],
   "source": []
  }
 ],
 "metadata": {
  "interpreter": {
   "hash": "340e956ee656efd8fdfb480dc033c937d9b626f8b21073bd1b5aa2a469586ea6"
  },
  "kernelspec": {
   "display_name": "Python 3.9.12 64-bit",
   "language": "python",
   "name": "python3"
  },
  "language_info": {
   "codemirror_mode": {
    "name": "ipython",
    "version": 3
   },
   "file_extension": ".py",
   "mimetype": "text/x-python",
   "name": "python",
   "nbconvert_exporter": "python",
   "pygments_lexer": "ipython3",
   "version": "3.9.12"
  }
 },
 "nbformat": 4,
 "nbformat_minor": 5
}
