{
 "cells": [
  {
   "cell_type": "code",
   "execution_count": 1,
   "id": "123a8f98",
   "metadata": {},
   "outputs": [
    {
     "name": "stdout",
     "output_type": "stream",
     "text": [
      "<class 'pandas.core.frame.DataFrame'>\n",
      "RangeIndex: 102 entries, 0 to 101\n",
      "Data columns (total 9 columns):\n",
      " #   Column                              Non-Null Count  Dtype  \n",
      "---  ------                              --------------  -----  \n",
      " 0   residual_transmission               102 non-null    float64\n",
      " 1   regulatable_transmission            102 non-null    float64\n",
      " 2   recovery_rate                       102 non-null    float64\n",
      " 3   detection_rate                      102 non-null    float64\n",
      " 4   death_rate                          102 non-null    float64\n",
      " 5   response_slope                      102 non-null    float64\n",
      " 6   initial_relative_latent_infections  102 non-null    float64\n",
      " 7   response_weights                    102 non-null    float64\n",
      " 8   Country                             102 non-null    object \n",
      "dtypes: float64(8), object(1)\n",
      "memory usage: 7.3+ KB\n"
     ]
    }
   ],
   "source": [
    "import pandas as pd\n",
    "import numpy as np\n",
    "# not skipping empty values, to demonstrate data preprocessing steps later\n",
    "df = pd.read_csv('D2_mar.csv', na_filter=False)\n",
    "df.info()"
   ]
  },
  {
   "cell_type": "code",
   "execution_count": 2,
   "id": "7754375f",
   "metadata": {},
   "outputs": [
    {
     "name": "stdout",
     "output_type": "stream",
     "text": [
      "count    102.000000\n",
      "mean       0.249317\n",
      "std        0.131924\n",
      "min        0.000000\n",
      "25%        0.175473\n",
      "50%        0.219543\n",
      "75%        0.298990\n",
      "max        1.000000\n",
      "Name: initial_relative_latent_infections, dtype: float64\n",
      "0.390325    1\n",
      "0.400922    1\n",
      "0.380978    1\n",
      "0.000000    1\n",
      "0.189090    1\n",
      "           ..\n",
      "0.343179    1\n",
      "0.238449    1\n",
      "0.347169    1\n",
      "0.219781    1\n",
      "0.269970    1\n",
      "Name: initial_relative_latent_infections, Length: 102, dtype: int64\n"
     ]
    }
   ],
   "source": [
    "# get more information from RegDens\n",
    "print(df['initial_relative_latent_infections'].describe())\n",
    "print(df['initial_relative_latent_infections'].value_counts())"
   ]
  },
  {
   "cell_type": "code",
   "execution_count": null,
   "id": "610c1862",
   "metadata": {},
   "outputs": [],
   "source": []
  }
 ],
 "metadata": {
  "interpreter": {
   "hash": "340e956ee656efd8fdfb480dc033c937d9b626f8b21073bd1b5aa2a469586ea6"
  },
  "kernelspec": {
   "display_name": "Python 3.9.12 64-bit",
   "language": "python",
   "name": "python3"
  },
  "language_info": {
   "codemirror_mode": {
    "name": "ipython",
    "version": 3
   },
   "file_extension": ".py",
   "mimetype": "text/x-python",
   "name": "python",
   "nbconvert_exporter": "python",
   "pygments_lexer": "ipython3",
   "version": "3.9.12"
  }
 },
 "nbformat": 4,
 "nbformat_minor": 5
}
